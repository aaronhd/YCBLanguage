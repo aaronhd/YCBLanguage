{
 "cells": [
  {
   "cell_type": "code",
   "execution_count": 2,
   "metadata": {},
   "outputs": [],
   "source": [
    "import json\n",
    "j = json.load(open(\"lang_vis.json\"))"
   ]
  },
  {
   "cell_type": "code",
   "execution_count": 17,
   "metadata": {},
   "outputs": [],
   "source": [
    "sents = []\n",
    "words = []\n",
    "for seq in j[\"res\"]:\n",
    "    for sent in seq:\n",
    "        sents.append(sent)\n",
    "        words.extend(sent)"
   ]
  },
  {
   "cell_type": "code",
   "execution_count": 19,
   "metadata": {},
   "outputs": [],
   "source": [
    "from collections import Counter\n",
    "counts = Counter(words)"
   ]
  },
  {
   "cell_type": "code",
   "execution_count": 21,
   "metadata": {},
   "outputs": [],
   "source": [
    "lengths = Counter([len(v) for v in sents])"
   ]
  },
  {
   "cell_type": "code",
   "execution_count": 24,
   "metadata": {},
   "outputs": [],
   "source": [
    "import matplotlib.pyplot as plt\n",
    "import seaborn as sns\n",
    "sns.set()"
   ]
  },
  {
   "cell_type": "code",
   "execution_count": 34,
   "metadata": {},
   "outputs": [
    {
     "data": {
      "image/png": "[encoded data removed]",
      "text/plain": [
       "<matplotlib.figure.Figure at 0x11767dc18>"
      ]
     },
     "metadata": {},
     "output_type": "display_data"
    }
   ],
   "source": [
    "f, ax = plt.subplots(figsize=(5,3))\n",
    "ax.set_xlabel(\"length\")\n",
    "ax.set_ylabel(\"count\")\n",
    "vals = [(v,lengths[v]) for v in lengths]\n",
    "vals.sort()\n",
    "x = [v[0] for v in vals]\n",
    "y = [v[1] for v in vals]\n",
    "_ = sns.barplot(x,y)"
   ]
  },
  {
   "cell_type": "code",
   "execution_count": 44,
   "metadata": {},
   "outputs": [
    {
     "data": {
      "image/png": "[encoded data removed]",
      "text/plain": [
       "<matplotlib.figure.Figure at 0x11755b0f0>"
      ]
     },
     "metadata": {},
     "output_type": "display_data"
    }
   ],
   "source": [
    "f, ax = plt.subplots(figsize=(9,3))\n",
    "ax.set_xlabel(\"word index\")\n",
    "ax.set_ylabel(\"frequency\")\n",
    "vals = []\n",
    "idx = 0\n",
    "for w in counts:\n",
    "    for i in range(counts[w]):\n",
    "        vals.append(idx)\n",
    "    idx += 1\n",
    "plt.xlim(0,500)\n",
    "_ = sns.distplot(vals)"
   ]
  },
  {
   "cell_type": "code",
   "execution_count": 47,
   "metadata": {},
   "outputs": [
    {
     "name": "stdout",
     "output_type": "stream",
     "text": [
      "['black', 'with', 'red', 'blue', 'yellow', 'the', 'cup', 'ball', 'box', 'plastic', 'object', 'block', 'cube', 'green', 'small']\n",
      "['bumps', 'bloch', 'bladed', 'bits', 'best', 'berry', 'bead', 'base', 'avocado', 'at', 'around', 'arch', 'all', 'airplane', '4']\n"
     ]
    }
   ],
   "source": [
    "wc = [(counts[w],w) for w in counts]\n",
    "wc.sort()\n",
    "wc.reverse()\n",
    "print([v[1] for v in wc[:15]])\n",
    "print([v[1] for v in wc[-15:]])"
   ]
  },
  {
   "cell_type": "code",
   "execution_count": 48,
   "metadata": {},
   "outputs": [
    {
     "data": {
      "text/plain": [
       "[(1, 'bumps'),\n",
       " (1, 'bloch'),\n",
       " (1, 'bladed'),\n",
       " (1, 'bits'),\n",
       " (1, 'best'),\n",
       " (1, 'berry'),\n",
       " (1, 'bead'),\n",
       " (1, 'base'),\n",
       " (1, 'avocado'),\n",
       " (1, 'at'),\n",
       " (1, 'around'),\n",
       " (1, 'arch'),\n",
       " (1, 'all'),\n",
       " (1, 'airplane'),\n",
       " (1, '4')]"
      ]
     },
     "execution_count": 48,
     "metadata": {},
     "output_type": "execute_result"
    }
   ],
   "source": [
    "wc[-15:]"
   ]
  },
  {
   "cell_type": "code",
   "execution_count": 49,
   "metadata": {},
   "outputs": [
    {
     "data": {
      "text/plain": [
       "[(104, 'black'),\n",
       " (80, 'with'),\n",
       " (80, 'red'),\n",
       " (67, 'blue'),\n",
       " (63, 'yellow'),\n",
       " (56, 'the'),\n",
       " (56, 'cup'),\n",
       " (51, 'ball'),\n",
       " (46, 'box'),\n",
       " (42, 'plastic'),\n",
       " (41, 'object'),\n",
       " (41, 'block'),\n",
       " (39, 'cube'),\n",
       " (38, 'green'),\n",
       " (36, 'small')]"
      ]
     },
     "execution_count": 49,
     "metadata": {},
     "output_type": "execute_result"
    }
   ],
   "source": [
    "wc[:15]"
   ]
  },
  {
   "cell_type": "code",
   "execution_count": null,
   "metadata": {},
   "outputs": [],
   "source": []
  }
 ],
 "metadata": {
  "kernelspec": {
   "display_name": "Python 3",
   "language": "python",
   "name": "python3"
  },
  "language_info": {
   "codemirror_mode": {
    "name": "ipython",
    "version": 3
   },
   "file_extension": ".py",
   "mimetype": "text/x-python",
   "name": "python",
   "nbconvert_exporter": "python",
   "pygments_lexer": "ipython3",
   "version": "3.7.2"
  }
 },
 "nbformat": 4,
 "nbformat_minor": 2
}
